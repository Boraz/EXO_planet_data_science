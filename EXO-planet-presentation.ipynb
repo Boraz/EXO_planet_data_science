{
 "cells": [
  {
   "cell_type": "code",
   "execution_count": 263,
   "metadata": {
    "collapsed": false
   },
   "outputs": [],
   "source": [
    "import pandas as pd\n",
    "import numpy as np\n",
    "import matplotlib.pyplot as plt\n",
    "from scipy import optimize\n",
    "\n",
    "plt.style.use('ggplot')\n",
    "%matplotlib inline"
   ]
  },
  {
   "cell_type": "code",
   "execution_count": 264,
   "metadata": {
    "collapsed": false
   },
   "outputs": [],
   "source": [
    "HD154345 = pd.read_table('data/HD154345_KECK.vels', sep='\\s+', names = [\"jd\",\"velocity\", \"uncertainty\", \"S_value\", \"H_alpha\", \"median_photons_per_pixel\", \"exposure_time\"])"
   ]
  },
  {
   "cell_type": "code",
   "execution_count": 278,
   "metadata": {
    "collapsed": false
   },
   "outputs": [
    {
     "data": {
      "text/html": [
       "<div>\n",
       "<table border=\"1\" class=\"dataframe\">\n",
       "  <thead>\n",
       "    <tr style=\"text-align: right;\">\n",
       "      <th></th>\n",
       "      <th>jd</th>\n",
       "      <th>velocity</th>\n",
       "      <th>uncertainty</th>\n",
       "      <th>S_value</th>\n",
       "      <th>H_alpha</th>\n",
       "      <th>median_photons_per_pixel</th>\n",
       "      <th>exposure_time</th>\n",
       "    </tr>\n",
       "  </thead>\n",
       "  <tbody>\n",
       "    <tr>\n",
       "      <th>0</th>\n",
       "      <td>2.450547e+06</td>\n",
       "      <td>-24.35</td>\n",
       "      <td>1.45</td>\n",
       "      <td>0.1776</td>\n",
       "      <td>-1.0</td>\n",
       "      <td>145173</td>\n",
       "      <td>250</td>\n",
       "    </tr>\n",
       "    <tr>\n",
       "      <th>1</th>\n",
       "      <td>2.450604e+06</td>\n",
       "      <td>-18.98</td>\n",
       "      <td>1.42</td>\n",
       "      <td>0.1883</td>\n",
       "      <td>-1.0</td>\n",
       "      <td>201487</td>\n",
       "      <td>200</td>\n",
       "    </tr>\n",
       "    <tr>\n",
       "      <th>2</th>\n",
       "      <td>2.450956e+06</td>\n",
       "      <td>-17.30</td>\n",
       "      <td>1.52</td>\n",
       "      <td>0.1784</td>\n",
       "      <td>-1.0</td>\n",
       "      <td>164367</td>\n",
       "      <td>191</td>\n",
       "    </tr>\n",
       "  </tbody>\n",
       "</table>\n",
       "</div>"
      ],
      "text/plain": [
       "             jd  velocity  uncertainty  S_value  H_alpha  \\\n",
       "0  2.450547e+06    -24.35         1.45   0.1776     -1.0   \n",
       "1  2.450604e+06    -18.98         1.42   0.1883     -1.0   \n",
       "2  2.450956e+06    -17.30         1.52   0.1784     -1.0   \n",
       "\n",
       "   median_photons_per_pixel  exposure_time  \n",
       "0                    145173            250  \n",
       "1                    201487            200  \n",
       "2                    164367            191  "
      ]
     },
     "execution_count": 278,
     "metadata": {},
     "output_type": "execute_result"
    }
   ],
   "source": [
    "HD154345.head(3)"
   ]
  },
  {
   "cell_type": "code",
   "execution_count": 279,
   "metadata": {
    "collapsed": false
   },
   "outputs": [],
   "source": [
    "HD154_F = pd.DataFrame(data=HD154345)"
   ]
  },
  {
   "cell_type": "code",
   "execution_count": 280,
   "metadata": {
    "collapsed": true
   },
   "outputs": [],
   "source": [
    "HD154 = HD154_F[['jd','velocity', 'uncertainty']]"
   ]
  },
  {
   "cell_type": "code",
   "execution_count": 281,
   "metadata": {
    "collapsed": false
   },
   "outputs": [
    {
     "data": {
      "image/png": "[encoded data removed]",
      "text/plain": [
       "<matplotlib.figure.Figure at 0x1dcdcf53240>"
      ]
     },
     "metadata": {},
     "output_type": "display_data"
    }
   ],
   "source": [
    "HD154.plot('jd', 'velocity',colormap='summer')\n",
    "x = HD154.jd\n",
    "y = HD154.velocity"
   ]
  },
  {
   "cell_type": "code",
   "execution_count": 282,
   "metadata": {
    "collapsed": false
   },
   "outputs": [
    {
     "name": "stderr",
     "output_type": "stream",
     "text": [
      "C:\\Users\\viper\\Anaconda3\\lib\\site-packages\\numpy\\lib\\polynomial.py:595: RankWarning: Polyfit may be poorly conditioned\n",
      "  warnings.warn(msg, RankWarning)\n"
     ]
    }
   ],
   "source": [
    "fit = np.polyfit(x,y,6)"
   ]
  },
  {
   "cell_type": "code",
   "execution_count": 283,
   "metadata": {
    "collapsed": false
   },
   "outputs": [
    {
     "data": {
      "text/plain": [
       "array([ -5.35261062e-26,   3.06386309e-19,  -1.06988776e-13,\n",
       "        -1.58177035e-06,  -6.50237242e-01,   1.11175757e+07,\n",
       "        -1.16881921e+13])"
      ]
     },
     "execution_count": 283,
     "metadata": {},
     "output_type": "execute_result"
    }
   ],
   "source": [
    "fit"
   ]
  },
  {
   "cell_type": "code",
   "execution_count": 284,
   "metadata": {
    "collapsed": false
   },
   "outputs": [
    {
     "data": {
      "text/plain": [
       "[<matplotlib.lines.Line2D at 0x1dcdcfbb630>]"
      ]
     },
     "execution_count": 284,
     "metadata": {},
     "output_type": "execute_result"
    },
    {
     "data": {
      "image/png": "[encoded data removed]",
      "text/plain": [
       "<matplotlib.figure.Figure at 0x1dcdcffae10>"
      ]
     },
     "metadata": {},
     "output_type": "display_data"
    }
   ],
   "source": [
    "y2 = np.polyval(fit,x)\n",
    "plt.plot(x,y,'b-')\n",
    "plt.plot(x,y2,'r-')"
   ]
  },
  {
   "cell_type": "code",
   "execution_count": null,
   "metadata": {
    "collapsed": false
   },
   "outputs": [],
   "source": []
  },
  {
   "cell_type": "code",
   "execution_count": null,
   "metadata": {
    "collapsed": false
   },
   "outputs": [],
   "source": []
  },
  {
   "cell_type": "code",
   "execution_count": null,
   "metadata": {
    "collapsed": false
   },
   "outputs": [],
   "source": []
  },
  {
   "cell_type": "code",
   "execution_count": null,
   "metadata": {
    "collapsed": false
   },
   "outputs": [],
   "source": []
  },
  {
   "cell_type": "code",
   "execution_count": null,
   "metadata": {
    "collapsed": true
   },
   "outputs": [],
   "source": []
  },
  {
   "cell_type": "code",
   "execution_count": null,
   "metadata": {
    "collapsed": false
   },
   "outputs": [],
   "source": []
  },
  {
   "cell_type": "code",
   "execution_count": 285,
   "metadata": {
    "collapsed": false
   },
   "outputs": [],
   "source": [
    "#HD95735_F = pd.read_table('data/HD95735_KECK.vels', sep='\\s+', \n",
    "#                  names = [\"velocity\", \"uncertainty\", \"S_value\", \"H_alpha\", \"median_photons_per_pixel\", \"exposure_time\"])\n",
    "#HD95735 = HD95735_F[['velocity', 'uncertainty','S_value', 'H_alpha']]\n",
    "#HD95735.plot()"
   ]
  },
  {
   "cell_type": "code",
   "execution_count": 286,
   "metadata": {
    "collapsed": false
   },
   "outputs": [],
   "source": [
    "#HD207832_F = pd.read_table('data/HD207832_KECK.vels', sep='\\s+', \n",
    "#                  names = [\"velocity\", \"uncertainty\", \"S_value\", \"H_alpha\", \"median_photons_per_pixel\", \"exposure_time\"])\n",
    "#HD207832 = HD207832_F[['velocity', 'uncertainty','S_value', 'H_alpha']]\n",
    "#HD207832.plot()"
   ]
  },
  {
   "cell_type": "code",
   "execution_count": null,
   "metadata": {
    "collapsed": true
   },
   "outputs": [],
   "source": []
  }
 ],
 "metadata": {
  "kernelspec": {
   "display_name": "Python 3",
   "language": "python",
   "name": "python3"
  },
  "language_info": {
   "codemirror_mode": {
    "name": "ipython",
    "version": 3
   },
   "file_extension": ".py",
   "mimetype": "text/x-python",
   "name": "python",
   "nbconvert_exporter": "python",
   "pygments_lexer": "ipython3",
   "version": "3.6.0"
  }
 },
 "nbformat": 4,
 "nbformat_minor": 2
}
